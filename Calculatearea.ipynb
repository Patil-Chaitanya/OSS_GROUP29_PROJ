#made changes by first contributer 
#To caliculate area 
{
  "nbformat": 4,
  "nbformat_minor": 0,
  "metadata": {
    "colab": {
      "name": "Untitled2.ipynb",
      "provenance": [],
      "collapsed_sections": [],
      "authorship_tag": "ABX9TyMB1bUcYy1rlQ+qMLJNMVMS"
    },
    "kernelspec": {
      "name": "python3",
      "display_name": "Python 3"
    },
    "language_info": {
      "name": "python"
    }
  },
  "cells": [
    {
      "cell_type": "code",
      "metadata": {
        "id": "2nu0OgVF_-ks"
      },
      "source": [
        "# define a function for calculating\n",
        "# the area of a shapes\n",
        "def calculate_area(name):\n",
        "    \n",
        "  # converting all characters\n",
        "  # into lower cases\n",
        "  name = name.lower()\n",
        "    \n",
        "  # check for the conditions\n",
        "  if name == \"rectangle\":\n",
        "    l = int(input(\"Enter rectangle's length: \"))\n",
        "    b = int(input(\"Enter rectangle's breadth: \"))\n",
        "      \n",
        "    # calculate area of rectangel\n",
        "    rect_area = l * b\n",
        "    print(f\"The area of rectangle is {rect_area}.\")\n",
        "    \n",
        "  elif name == \"square\":\n",
        "    s = int(input(\"Enter square's side length: \"))\n",
        "        \n",
        "    # calculate area of square\n",
        "    sqt_area = s * s\n",
        "    print(f\"The area of square is  {sqt_area}.\")\n",
        "  \n",
        "  elif name == \"triangle\":\n",
        "    h = int(input(\"Enter triangle's height length: \"))\n",
        "    b = int(input(\"Enter triangle's breadth length: \"))\n",
        "        \n",
        "    # calculate area of triangle\n",
        "    tri_area = 0.5 * b * h\n",
        "    print(f\"The area of triangle is  {tri_area}.\")\n",
        "  \n",
        "  elif name == \"circle\":\n",
        "    r = int(input(\"Enter circle's radius length: \"))\n",
        "    pi = 3.14\n",
        "          \n",
        "    # calculate area of circle\n",
        "    circ_area = pi * r * r\n",
        "    print(f\"The area of triangle is  {circ_area}.\")\n",
        "          \n",
        "  elif name == 'parallelogram':\n",
        "    b = int(input(\"Enter parallelogram's base length: \"))\n",
        "    h = int(input(\"Enter parallelogram's height length: \"))\n",
        "      \n",
        "    # calculate area of parallelogram\n",
        "    para_area = b * h\n",
        "    print(f\"The area of parallelogram is  {para_area}.\")\n",
        "    \n",
        "   elif name == 'trapezoid':\n",
        "    b1 = int(input(\"Enter trapezoid's base length 1: \"))\n",
        "    b2 = int(input(\"Enter trapezoid's base length 2: \"))\n",
        "    h = int(input(\"Enter trapezoid's height length: \"))\n",
        "      \n",
        "    # calculate area of trapezoid\n",
        "    trape_area = (b1+b2) * 0.5 * h\n",
        "    print(f\"The area of trapezoid is  {trape_area}.\") \n",
        "    \n",
        "  else:\n",
        "    print(\"Sorry! This shape is not available\")"
      ],
      "execution_count": null,
      "outputs": []
    }
  ]
}
